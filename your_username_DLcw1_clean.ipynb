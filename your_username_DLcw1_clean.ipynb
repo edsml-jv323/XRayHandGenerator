{
  "nbformat": 4,
  "nbformat_minor": 0,
  "metadata": {
    "colab": {
      "provenance": [],
      "gpuClass": "premium"
    },
    "kernelspec": {
      "name": "python3",
      "display_name": "Python 3"
    },
    "language_info": {
      "name": "python"
    },
    "gpuClass": "premium"
  },
  "cells": [
    {
      "cell_type": "markdown",
      "source": [
        "<img src=\"https://drive.google.com/uc?id=1DvKhAzLtk-Hilu7Le73WAOz2EBR5d41G\" width=\"500\"/>\n",
        "\n",
        "---\n"
      ],
      "metadata": {
        "id": "9YehS8enAmDn"
      }
    },
    {
      "cell_type": "markdown",
      "source": [
        "### ***Name***: [*your name*]\n",
        "### ***username***: [*your username*]\n",
        "### ***CID***: [*your CID*]\n",
        "\n",
        "\n",
        "You can save this notebook in Colab by clicking `File` from the top menu, and then selecting `Download --> Download .ipynb`\n",
        "\n",
        "Make sure that when you save your notebook you have all the cells executed and you can see the outputs (livelossplot graphs, etc)"
      ],
      "metadata": {
        "id": "gD4VUfPGx8Oy"
      }
    },
    {
      "cell_type": "markdown",
      "source": [
        "## Justification of choice VAE/GAN\n",
        "\n",
        "Explain in **two or three sentences** and/or a few **bullet points** why you have chosen to use a VAE or a GAN. There is no right or wrong choice, but the justification of the choice will be assessed."
      ],
      "metadata": {
        "id": "D7WsLTdfXD1I"
      }
    },
    {
      "cell_type": "markdown",
      "source": [
        "your answer here"
      ],
      "metadata": {
        "id": "lag_UKihXhhQ"
      }
    },
    {
      "cell_type": "markdown",
      "source": [
        "## Data preparation"
      ],
      "metadata": {
        "id": "KyZTroXCzEop"
      }
    },
    {
      "cell_type": "markdown",
      "source": [
        "add text blocks as you need"
      ],
      "metadata": {
        "id": "2Z09WOTKPCUw"
      }
    },
    {
      "cell_type": "code",
      "source": [
        "### add code blocks as you need"
      ],
      "metadata": {
        "id": "J7r0q-LczFP3"
      },
      "execution_count": null,
      "outputs": []
    },
    {
      "cell_type": "markdown",
      "source": [
        "## Network design and implementation"
      ],
      "metadata": {
        "id": "_G5ECt7PPGYG"
      }
    },
    {
      "cell_type": "markdown",
      "source": [
        "add text blocks as you need"
      ],
      "metadata": {
        "id": "FLHoXYwNPNM3"
      }
    },
    {
      "cell_type": "code",
      "source": [
        "### add code blocks as you need"
      ],
      "metadata": {
        "id": "lIdkqHTIPQCj"
      },
      "execution_count": null,
      "outputs": []
    },
    {
      "cell_type": "markdown",
      "source": [
        "## Training and evaluation loops"
      ],
      "metadata": {
        "id": "KBEasRWwPSxJ"
      }
    },
    {
      "cell_type": "markdown",
      "source": [
        "add text blocks as you need"
      ],
      "metadata": {
        "id": "b3WgS8-wPcVd"
      }
    },
    {
      "cell_type": "code",
      "source": [
        "### add code blocks as you need"
      ],
      "metadata": {
        "id": "vFewqBSbPdFw"
      },
      "execution_count": null,
      "outputs": []
    },
    {
      "cell_type": "markdown",
      "source": [
        "## Network training\n",
        "Use the best hyperparameters and network design here (and justify briefly your choices, linking them to the `yourusername_DLcw1_hypertune.ipynb` notebook.\n",
        "\n",
        "Show loss evolution with livelossplot or any other graphic visualisation tool of your choice"
      ],
      "metadata": {
        "id": "EfnhoDS1PgLr"
      }
    },
    {
      "cell_type": "markdown",
      "source": [
        "add text blocks as you need"
      ],
      "metadata": {
        "id": "LH9z7YbTPi2C"
      }
    },
    {
      "cell_type": "code",
      "source": [
        "### add code blocks as you need"
      ],
      "metadata": {
        "id": "WHC3SvmDPkMs"
      },
      "execution_count": null,
      "outputs": []
    },
    {
      "cell_type": "markdown",
      "source": [
        "## Generate 300 new samples with your trained network"
      ],
      "metadata": {
        "id": "KHj9KgHJPs1H"
      }
    },
    {
      "cell_type": "markdown",
      "source": [
        "add text blocks as you need"
      ],
      "metadata": {
        "id": "yFAIaQmZPxPC"
      }
    },
    {
      "cell_type": "code",
      "source": [
        "### add code blocks as you need"
      ],
      "metadata": {
        "id": "CTW58LIGPwn0"
      },
      "execution_count": null,
      "outputs": []
    },
    {
      "cell_type": "markdown",
      "source": [
        "## Save the 300 generated samples as `.jpeg` files\n",
        "The format of the saved samples should be `.jpeg`, and the names of the files should be:\n",
        "- `yourusername_VAE001.jpeg`, `yourusername_VAE002.jpeg`, ... , `yourusername_VAE300.jpeg`\n",
        "\n",
        "or\n",
        "\n",
        "- - `yourusername_GAN001.jpeg`, `yourusername_GAN002.jpeg`, ... , `yourusername_GAN300.jpeg`\n",
        "\n",
        "You can save your samples in your Google Drive or your local machine and then copy them to the repo where you will submit the answer."
      ],
      "metadata": {
        "id": "sngV4_C1P0O3"
      }
    },
    {
      "cell_type": "markdown",
      "source": [
        "add text blocks as you need"
      ],
      "metadata": {
        "id": "QRj-D9gzRG_y"
      }
    },
    {
      "cell_type": "code",
      "source": [
        "### add code blocks as you need"
      ],
      "metadata": {
        "id": "Bo0STMODRIpG"
      },
      "execution_count": null,
      "outputs": []
    }
  ]
}