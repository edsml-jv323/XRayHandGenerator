{
  "nbformat": 4,
  "nbformat_minor": 0,
  "metadata": {
    "colab": {
      "provenance": [],
      "gpuClass": "premium"
    },
    "kernelspec": {
      "name": "python3",
      "display_name": "Python 3"
    },
    "language_info": {
      "name": "python"
    },
    "gpuClass": "premium"
  },
  "cells": [
    {
      "cell_type": "markdown",
      "source": [
        "<img src=\"https://drive.google.com/uc?id=1DvKhAzLtk-Hilu7Le73WAOz2EBR5d41G\" width=\"500\"/>\n",
        "\n",
        "---\n"
      ],
      "metadata": {
        "id": "9YehS8enAmDn"
      }
    },
    {
      "cell_type": "markdown",
      "source": [
        "### ***Name***: [*your name*]\n",
        "### ***username***: [*your username*]\n",
        "### ***CID***: [*your CID*]\n",
        "\n",
        "\n",
        "You can save this notebook in Colab by clicking `File` from the top menu, and then selecting `Download --> Download .ipynb`\n",
        "\n",
        "Make sure that when you save your notebook you have all the cells executed and you can see the outputs (livelossplot graphs, etc)"
      ],
      "metadata": {
        "id": "gD4VUfPGx8Oy"
      }
    },
    {
      "cell_type": "markdown",
      "source": [
        "## Hyperparameter tunning notebook\n",
        "\n",
        "Explain the steps and tests you do.\n",
        "\n",
        "Organise it well to show how the data you present here has helped you design your final network hyperparameters (that you will use for the final training in the `yourusername_DLcw1_clean.ipynb` notebook)."
      ],
      "metadata": {
        "id": "KyZTroXCzEop"
      }
    },
    {
      "cell_type": "markdown",
      "source": [
        "add text blocks as you need"
      ],
      "metadata": {
        "id": "2Z09WOTKPCUw"
      }
    },
    {
      "cell_type": "code",
      "source": [
        "### add code blocks as you need"
      ],
      "metadata": {
        "id": "J7r0q-LczFP3"
      },
      "execution_count": null,
      "outputs": []
    }
  ]
}